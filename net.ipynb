{
 "cells": [
  {
   "cell_type": "code",
   "execution_count": 1,
   "metadata": {
    "collapsed": false
   },
   "outputs": [
    {
     "name": "stdout",
     "output_type": "stream",
     "text": [
      "Couldn't import dot_parser, loading of dot files will not be possible.\n"
     ]
    },
    {
     "name": "stderr",
     "output_type": "stream",
     "text": [
      "Using Theano backend.\n"
     ]
    }
   ],
   "source": [
    "from keras.models import Sequential"
   ]
  },
  {
   "cell_type": "markdown",
   "metadata": {},
   "source": [
    "XOR with Keras\n",
    "======="
   ]
  },
  {
   "cell_type": "code",
   "execution_count": 2,
   "metadata": {
    "collapsed": false
   },
   "outputs": [],
   "source": [
    "from keras.layers.core import Dense, Activation\n",
    "from keras.layers.normalization import BatchNormalization\n",
    "from keras.optimizers import SGD\n",
    "\n",
    "model = Sequential()\n",
    "\n",
    "model.add(Dense(2, input_dim=2))\n",
    "model.add(Activation('sigmoid'))\n",
    "model.add(Dense(1))\n",
    "model.add(Activation('sigmoid'))\n",
    "\n",
    "\n",
    "sgd = SGD(lr=0.1, decay=1e-6, momentum=0.99, nesterov=True)\n",
    "model.compile(loss='mean_squared_error', optimizer=sgd)"
   ]
  },
  {
   "cell_type": "markdown",
   "metadata": {},
   "source": [
    "Generate some XOR input data and test data"
   ]
  },
  {
   "cell_type": "code",
   "execution_count": 30,
   "metadata": {
    "collapsed": false
   },
   "outputs": [],
   "source": [
    "import numpy as np\n",
    "\n",
    "nsamples = 100000\n",
    "\n",
    "xs = np.empty([nsamples, 2], dtype='uint8')\n",
    "ys = np.empty([nsamples], dtype='uint8')\n",
    "for i in range(nsamples):\n",
    "    xs[i, 0] = np.random.randint(0, 2)\n",
    "    xs[i, 1] = np.random.randint(0, 2)\n",
    "    ys[i] = np.logical_xor(xs[i, 0], xs[i, 1])\n",
    "    \n",
    "    \n",
    "nsamples = 1000\n",
    "testxs = np.empty([nsamples, 2], dtype='uint8')\n",
    "testys = np.empty([nsamples, 1], dtype='uint8')\n",
    "for i in range(nsamples):\n",
    "    testxs[i, 0] = np.random.randint(0, 2)\n",
    "    testxs[i, 1] = np.random.randint(0, 2)\n",
    "    testys[i, 0] = np.logical_xor(testxs[i, 0], testxs[i, 1])"
   ]
  },
  {
   "cell_type": "markdown",
   "metadata": {},
   "source": [
    "train"
   ]
  },
  {
   "cell_type": "code",
   "execution_count": 31,
   "metadata": {
    "collapsed": false
   },
   "outputs": [
    {
     "name": "stdout",
     "output_type": "stream",
     "text": [
      "Train on 100000 samples, validate on 1000 samples\n",
      "Epoch 1/5\n",
      "100000/100000 [==============================] - 4s - loss: 0.0141 - acc: 0.9768 - val_loss: 6.5100e-06 - val_acc: 1.0000\n",
      "Epoch 2/5\n",
      "100000/100000 [==============================] - 4s - loss: 5.9377e-06 - acc: 1.0000 - val_loss: 5.5847e-06 - val_acc: 1.0000\n",
      "Epoch 3/5\n",
      "100000/100000 [==============================] - 4s - loss: 5.2044e-06 - acc: 1.0000 - val_loss: 4.9556e-06 - val_acc: 1.0000\n",
      "Epoch 4/5\n",
      "100000/100000 [==============================] - 5s - loss: 4.6606e-06 - acc: 1.0000 - val_loss: 4.4707e-06 - val_acc: 1.0000\n",
      "Epoch 5/5\n",
      "100000/100000 [==============================] - 4s - loss: 4.2337e-06 - acc: 1.0000 - val_loss: 4.0842e-06 - val_acc: 1.0000\n"
     ]
    },
    {
     "data": {
      "text/plain": [
       "<keras.callbacks.History at 0x12b3f1550>"
      ]
     },
     "execution_count": 31,
     "metadata": {},
     "output_type": "execute_result"
    }
   ],
   "source": [
    "model.fit(xs, ys,\n",
    "          nb_epoch=5,\n",
    "          batch_size=32,\n",
    "          show_accuracy=True,\n",
    "          validation_data=(testxs, testys))"
   ]
  },
  {
   "cell_type": "markdown",
   "metadata": {},
   "source": [
    "test"
   ]
  },
  {
   "cell_type": "code",
   "execution_count": 33,
   "metadata": {
    "collapsed": false
   },
   "outputs": [
    {
     "data": {
      "text/plain": [
       "array([[ 0.99886477]])"
      ]
     },
     "execution_count": 33,
     "metadata": {},
     "output_type": "execute_result"
    }
   ],
   "source": [
    "testx = np.array([[0, 1]])\n",
    "model.predict(testx)"
   ]
  },
  {
   "cell_type": "markdown",
   "metadata": {},
   "source": [
    "Synthetic Weather Symbol \n",
    "============="
   ]
  },
  {
   "cell_type": "code",
   "execution_count": 13,
   "metadata": {
    "collapsed": false
   },
   "outputs": [],
   "source": [
    "c_dict = {\"sun\":[1,0,0], \"sun with clouds\":[0,1,0], \"clouds\":[0,0,1]}\n",
    "p_dict = {\"\":[1,0,0], \"rain\":[0,1,0], \"heavy rain\":[0,0,1]}"
   ]
  },
  {
   "cell_type": "code",
   "execution_count": 15,
   "metadata": {
    "collapsed": true
   },
   "outputs": [],
   "source": [
    "def lookup(vec, ldict):\n",
    "    result = None\n",
    "    for k,v in ldict.items():\n",
    "        if v == vec:\n",
    "            result = k\n",
    "    return result"
   ]
  },
  {
   "cell_type": "code",
   "execution_count": 3,
   "metadata": {
    "collapsed": true
   },
   "outputs": [],
   "source": [
    "def convert(p, q):\n",
    "    ret = [0,0,0,0,0,0,0,0,0]\n",
    "    place = p.index(1) + 3*q.index(1)\n",
    "    ret[place] = 1\n",
    "    return ret"
   ]
  },
  {
   "cell_type": "code",
   "execution_count": 53,
   "metadata": {
    "collapsed": true
   },
   "outputs": [],
   "source": [
    "def toWords(vec):\n",
    "    i = vec.index(max(vec))\n",
    "    print vec\n",
    "    print max(vec)\n",
    "    print i\n",
    "    ci = i/3\n",
    "    pi = i%3\n",
    "    c = [0,0,0]\n",
    "    p = [0,0,0]\n",
    "    c[ci] = 1\n",
    "    p[pi] = 1\n",
    "    return lookup(c, c_dict) + \", \" + lookup(p, p_dict)"
   ]
  },
  {
   "cell_type": "code",
   "execution_count": 4,
   "metadata": {
    "collapsed": false
   },
   "outputs": [
    {
     "name": "stdout",
     "output_type": "stream",
     "text": [
      "[1, 0, 0, 0, 0, 0, 0, 0, 0]\n",
      "[0, 0, 0, 1, 0, 0, 0, 0, 0]\n",
      "[0, 0, 0, 0, 0, 0, 1, 0, 0]\n",
      "[0, 1, 0, 0, 0, 0, 0, 0, 0]\n",
      "[0, 0, 0, 0, 1, 0, 0, 0, 0]\n",
      "[0, 0, 0, 0, 0, 0, 0, 1, 0]\n",
      "[0, 0, 1, 0, 0, 0, 0, 0, 0]\n",
      "[0, 0, 0, 0, 0, 1, 0, 0, 0]\n",
      "[0, 0, 0, 0, 0, 0, 0, 0, 1]\n"
     ]
    }
   ],
   "source": [
    "ls = [[1,0,0], [0,1,0], [0,0,1]]\n",
    "for a in ls:\n",
    "    for b in ls:\n",
    "        print convert(a, b)"
   ]
  },
  {
   "cell_type": "code",
   "execution_count": 5,
   "metadata": {
    "collapsed": true
   },
   "outputs": [],
   "source": [
    "def getSymbol(cf, pc):\n",
    "    a = \"\"\n",
    "    b = \"\"\n",
    "    p = None\n",
    "    q = None\n",
    "    \n",
    "    if 0.0 < cf <= 0.3:\n",
    "        a = \"sun\"\n",
    "        p = [1,0,0]\n",
    "    elif 0.3 < cf <= 0.6:\n",
    "        a = \"sun with clouds\"\n",
    "        p = [0,1,0]\n",
    "    elif 0.6 < cf:\n",
    "        a = \"clouds\"\n",
    "        p = [0,0,1]\n",
    "        \n",
    "    if 0.0 < pc <= 0.1:\n",
    "        b = \"\"\n",
    "        q = [1,0,0]\n",
    "    elif 0.1 < pc <= 0.6:\n",
    "        b = \"rainy\"\n",
    "        q = [0,1,0]\n",
    "    elif 0.6 < pc:\n",
    "        b = \"very rainy\"\n",
    "        q = [0,0,1]\n",
    "        \n",
    "#     print cf, pc, a, b\n",
    "    return convert(p, q)"
   ]
  },
  {
   "cell_type": "code",
   "execution_count": 6,
   "metadata": {
    "collapsed": false
   },
   "outputs": [],
   "source": [
    "import numpy as np\n",
    "\n",
    "ndata = 1000000\n",
    "\n",
    "obs = []\n",
    "symbols = []\n",
    "\n",
    "for i in range(ndata):\n",
    "    cf = np.random.rand()\n",
    "    pc = np.random.rand() * cf\n",
    "    \n",
    "    obs.append([cf, pc])\n",
    "    symbols.append(getSymbol(cf, pc))"
   ]
  },
  {
   "cell_type": "code",
   "execution_count": 7,
   "metadata": {
    "collapsed": false
   },
   "outputs": [
    {
     "data": {
      "text/plain": [
       "(1000000, 9)"
      ]
     },
     "execution_count": 7,
     "metadata": {},
     "output_type": "execute_result"
    }
   ],
   "source": [
    "np.array(symbols).shape"
   ]
  },
  {
   "cell_type": "code",
   "execution_count": 8,
   "metadata": {
    "collapsed": false
   },
   "outputs": [],
   "source": [
    "model = Sequential()\n",
    "\n",
    "model.add(Dense(6, input_dim=2))\n",
    "model.add(Activation('sigmoid'))\n",
    "model.add(Dense(9))\n",
    "model.add(Activation('softmax'))\n",
    "\n",
    "\n",
    "sgd = SGD(lr=0.1, decay=1e-6, momentum=0.99, nesterov=True)\n",
    "model.compile(loss='mse', optimizer=sgd)"
   ]
  },
  {
   "cell_type": "code",
   "execution_count": null,
   "metadata": {
    "collapsed": false
   },
   "outputs": [
    {
     "name": "stdout",
     "output_type": "stream",
     "text": [
      "Train on 900000 samples, validate on 100000 samples\n",
      "Epoch 1/5\n",
      "900000/900000 [==============================] - 14s - loss: 0.0264 - acc: 0.8663 - val_loss: 0.0158 - val_acc: 0.9264\n",
      "Epoch 2/5\n",
      "900000/900000 [==============================] - 13s - loss: 0.0146 - acc: 0.9295 - val_loss: 0.0138 - val_acc: 0.9323\n",
      "Epoch 3/5\n",
      "900000/900000 [==============================] - 14s - loss: 0.0132 - acc: 0.9337 - val_loss: 0.0128 - val_acc: 0.9369\n",
      "Epoch 4/5\n",
      "417300/900000 [============>.................] - ETA: 6s - loss: 0.0128 - acc: 0.9350"
     ]
    }
   ],
   "source": [
    "model.fit(np.array(obs), np.array(symbols),\n",
    "          nb_epoch=5,\n",
    "          batch_size=100,\n",
    "          show_accuracy=True,\n",
    "          validation_split=0.1)"
   ]
  },
  {
   "cell_type": "code",
   "execution_count": 72,
   "metadata": {
    "collapsed": false
   },
   "outputs": [
    {
     "name": "stdout",
     "output_type": "stream",
     "text": [
      "[[  2.01460646e-20   1.00291529e-11   4.76626560e-09   7.04265083e-04\n",
      "    1.05666816e-02   7.46127000e-08   5.97862093e-10   5.95798244e-10\n",
      "    9.88729000e-01]]\n",
      "[2.0146064598085684e-20, 1.00291528554175e-11, 4.766265604416731e-09, 0.0007042650831863284, 0.010566681623458862, 7.461270001840603e-08, 5.978620931657019e-10, 5.95798244074075e-10, 0.9887290000915527]\n",
      "0.988729000092\n",
      "8\n",
      "clouds, heavy rain\n"
     ]
    }
   ],
   "source": [
    "testx = np.array([[0.5,0.9]])\n",
    "r = model.predict(testx)\n",
    "print r\n",
    "print toWords(r.tolist()[0])"
   ]
  },
  {
   "cell_type": "code",
   "execution_count": null,
   "metadata": {
    "collapsed": true
   },
   "outputs": [],
   "source": []
  }
 ],
 "metadata": {
  "kernelspec": {
   "display_name": "Python 2",
   "language": "python",
   "name": "python2"
  },
  "language_info": {
   "codemirror_mode": {
    "name": "ipython",
    "version": 2
   },
   "file_extension": ".py",
   "mimetype": "text/x-python",
   "name": "python",
   "nbconvert_exporter": "python",
   "pygments_lexer": "ipython2",
   "version": "2.7.10"
  }
 },
 "nbformat": 4,
 "nbformat_minor": 0
}
