{
 "cells": [
  {
   "cell_type": "code",
   "execution_count": 1,
   "metadata": {
    "collapsed": false
   },
   "outputs": [
    {
     "name": "stderr",
     "output_type": "stream",
     "text": [
      "Using Theano backend.\n"
     ]
    }
   ],
   "source": [
    "from keras.models import Sequential"
   ]
  },
  {
   "cell_type": "markdown",
   "metadata": {},
   "source": [
    "XOR with Keras\n",
    "======="
   ]
  },
  {
   "cell_type": "code",
   "execution_count": 2,
   "metadata": {
    "collapsed": false
   },
   "outputs": [],
   "source": [
    "from keras.layers.core import Dense, Activation\n",
    "from keras.optimizers import SGD\n",
    "\n",
    "model = Sequential()\n",
    "\n",
    "model.add(Dense(2, input_dim=2))\n",
    "model.add(Activation('sigmoid'))\n",
    "model.add(Dense(1))\n",
    "model.add(Activation('sigmoid'))\n",
    "\n",
    "\n",
    "sgd = SGD(lr=0.1, decay=1e-6, momentum=0.99, nesterov=True)\n",
    "model.compile(loss='mean_squared_error', optimizer=sgd)"
   ]
  },
  {
   "cell_type": "markdown",
   "metadata": {},
   "source": [
    "Generate some XOR input data and test data"
   ]
  },
  {
   "cell_type": "code",
   "execution_count": 3,
   "metadata": {
    "collapsed": false
   },
   "outputs": [],
   "source": [
    "import numpy as np\n",
    "\n",
    "nsamples = 100000\n",
    "\n",
    "xs = np.empty([nsamples, 2], dtype='uint8')\n",
    "ys = np.empty([nsamples], dtype='uint8')\n",
    "for i in range(nsamples):\n",
    "    xs[i, 0] = np.random.randint(0, 2)\n",
    "    xs[i, 1] = np.random.randint(0, 2)\n",
    "    ys[i] = np.logical_xor(xs[i, 0], xs[i, 1])\n",
    "    \n",
    "    \n",
    "nsamples = 1000\n",
    "testxs = np.empty([nsamples, 2], dtype='uint8')\n",
    "testys = np.empty([nsamples, 1], dtype='uint8')\n",
    "for i in range(nsamples):\n",
    "    testxs[i, 0] = np.random.randint(0, 2)\n",
    "    testxs[i, 1] = np.random.randint(0, 2)\n",
    "    testys[i, 0] = np.logical_xor(testxs[i, 0], testxs[i, 1])"
   ]
  },
  {
   "cell_type": "markdown",
   "metadata": {},
   "source": [
    "train"
   ]
  },
  {
   "cell_type": "code",
   "execution_count": 4,
   "metadata": {
    "collapsed": false
   },
   "outputs": [
    {
     "name": "stdout",
     "output_type": "stream",
     "text": [
      "Train on 100000 samples, validate on 1000 samples\n",
      "Epoch 1/5\n",
      "100000/100000 [==============================] - 3s - loss: 0.0161 - acc: 0.9744 - val_loss: 1.3956e-05 - val_acc: 1.0000\n",
      "Epoch 2/5\n",
      "100000/100000 [==============================] - 3s - loss: 1.2012e-05 - acc: 1.0000 - val_loss: 1.0277e-05 - val_acc: 1.0000\n",
      "Epoch 3/5\n",
      "100000/100000 [==============================] - 3s - loss: 9.2516e-06 - acc: 1.0000 - val_loss: 8.2379e-06 - val_acc: 1.0000\n",
      "Epoch 4/5\n",
      "100000/100000 [==============================] - 3s - loss: 7.6019e-06 - acc: 1.0000 - val_loss: 6.9244e-06 - val_acc: 1.0000\n",
      "Epoch 5/5\n",
      "100000/100000 [==============================] - 3s - loss: 6.4890e-06 - acc: 1.0000 - val_loss: 5.9969e-06 - val_acc: 1.0000\n"
     ]
    },
    {
     "data": {
      "text/plain": [
       "<keras.callbacks.History at 0x107a65190>"
      ]
     },
     "execution_count": 4,
     "metadata": {},
     "output_type": "execute_result"
    }
   ],
   "source": [
    "model.fit(xs, ys,\n",
    "          nb_epoch=5,\n",
    "          batch_size=32,\n",
    "          show_accuracy=True,\n",
    "          validation_data=(testxs, testys))"
   ]
  },
  {
   "cell_type": "markdown",
   "metadata": {},
   "source": [
    "test"
   ]
  },
  {
   "cell_type": "code",
   "execution_count": 5,
   "metadata": {
    "collapsed": false
   },
   "outputs": [
    {
     "data": {
      "text/plain": [
       "array([[ 0.00093944]])"
      ]
     },
     "execution_count": 5,
     "metadata": {},
     "output_type": "execute_result"
    }
   ],
   "source": [
    "testx = np.array([[1, 1]])\n",
    "model.predict(testx)"
   ]
  },
  {
   "cell_type": "markdown",
   "metadata": {},
   "source": [
    "Synthetic Weather Symbol \n",
    "============="
   ]
  },
  {
   "cell_type": "code",
   "execution_count": 6,
   "metadata": {
    "collapsed": true
   },
   "outputs": [],
   "source": [
    "def getSymbol(cf, pc):\n",
    "    a = \"\"\n",
    "    b = \"\"\n",
    "    p = None\n",
    "    q = None\n",
    "    \n",
    "    if 0.0 < cf <= 0.3:\n",
    "        a = \"sun\"\n",
    "        p = 1\n",
    "    elif 0.3 < cf <= 0.6:\n",
    "        a = \"sun with clouds\"\n",
    "        p = 2\n",
    "    elif 0.6 < cf:\n",
    "        a = \"clouds\"\n",
    "        p = 3\n",
    "        \n",
    "    if 0.0 < pc <= 0.1:\n",
    "        b = \"\"\n",
    "        q = 1\n",
    "    elif 0.1 < pc <= 0.6:\n",
    "        b = \"rainy\"\n",
    "        q = 2\n",
    "    elif 0.6 < pc:\n",
    "        b = \"very rainy\"\n",
    "        q = 3\n",
    "        \n",
    "#     print cf, pc, a, b\n",
    "    return p, q"
   ]
  },
  {
   "cell_type": "code",
   "execution_count": 7,
   "metadata": {
    "collapsed": false
   },
   "outputs": [],
   "source": [
    "ndata = 1000000\n",
    "\n",
    "obs = []\n",
    "symbols = []\n",
    "\n",
    "for i in range(ndata):\n",
    "    cf = np.random.rand()\n",
    "    pc = np.random.rand() * cf\n",
    "    \n",
    "    obs.append([cf, pc])\n",
    "    symbols.append(getSymbol(cf, pc))"
   ]
  },
  {
   "cell_type": "code",
   "execution_count": null,
   "metadata": {
    "collapsed": true
   },
   "outputs": [],
   "source": []
  }
 ],
 "metadata": {
  "kernelspec": {
   "display_name": "Python 2",
   "language": "python",
   "name": "python2"
  },
  "language_info": {
   "codemirror_mode": {
    "name": "ipython",
    "version": 2
   },
   "file_extension": ".py",
   "mimetype": "text/x-python",
   "name": "python",
   "nbconvert_exporter": "python",
   "pygments_lexer": "ipython2",
   "version": "2.7.11"
  }
 },
 "nbformat": 4,
 "nbformat_minor": 0
}
